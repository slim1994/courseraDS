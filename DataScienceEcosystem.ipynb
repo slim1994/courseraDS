{
  "nbformat": 4,
  "nbformat_minor": 0,
  "metadata": {
    "colab": {
      "provenance": []
    },
    "kernelspec": {
      "name": "python3",
      "display_name": "Python 3"
    },
    "language_info": {
      "name": "python"
    }
  },
  "cells": [
    {
      "cell_type": "markdown",
      "source": [
        "# Data Science Tools and Ecosystem"
      ],
      "metadata": {
        "id": "LCfO5_tM3Uzd"
      }
    },
    {
      "cell_type": "markdown",
      "source": [
        "In this notebook, Data Science Tools and Ecosystem are summarized.\n",
        "\n"
      ],
      "metadata": {
        "id": "3bml0Mch35H4"
      }
    },
    {
      "cell_type": "markdown",
      "source": [
        "Some of the popular languages that Data Scientists use are:\n",
        "1. python\n",
        "2. R\n",
        "3. C++"
      ],
      "metadata": {
        "id": "LysUid4y6kvd"
      }
    },
    {
      "cell_type": "markdown",
      "source": [
        "Some of the commonly used libraries used by Data Scientists include:\n",
        "1. TensorFlow\n",
        "2. Plotly\n",
        "3. Pandas\n"
      ],
      "metadata": {
        "id": "V_B_Svgy69kI"
      }
    },
    {
      "cell_type": "markdown",
      "source": [],
      "metadata": {
        "id": "vYupsE_b-qHp"
      }
    },
    {
      "cell_type": "code",
      "source": [],
      "metadata": {
        "id": "CbJ9RFqI8vvC"
      },
      "execution_count": 12,
      "outputs": []
    },
    {
      "cell_type": "markdown",
      "source": [
        "| Data Science Tools|\n",
        "| -------------|\n",
        "|Jupyter Noteboo  |\n",
        "|RStudio |\n",
        "| VS Code |"
      ],
      "metadata": {
        "id": "MphfEdrT79Cx"
      }
    },
    {
      "cell_type": "markdown",
      "source": [
        "### Below are a few examples of evaluating arithmetic expressions in Python"
      ],
      "metadata": {
        "id": "2OTEB9tT8pJe"
      }
    },
    {
      "cell_type": "markdown",
      "source": [
        "This a simple arithmetic expression to mutiply then add integers"
      ],
      "metadata": {
        "id": "nrTgKdNx9DdM"
      }
    },
    {
      "cell_type": "code",
      "source": [
        "(3*4)+5"
      ],
      "metadata": {
        "colab": {
          "base_uri": "https://localhost:8080/"
        },
        "id": "K7z0ZaBe8-Up",
        "outputId": "30d546ef-77f7-4042-89ed-cf2a421b0238"
      },
      "execution_count": 13,
      "outputs": [
        {
          "output_type": "execute_result",
          "data": {
            "text/plain": [
              "17"
            ]
          },
          "metadata": {},
          "execution_count": 13
        }
      ]
    },
    {
      "cell_type": "markdown",
      "source": [
        "This will convert 200 minutes to hours by diving by 60"
      ],
      "metadata": {
        "id": "P5GuVT3N9RQb"
      }
    },
    {
      "cell_type": "code",
      "source": [
        "200 // 60"
      ],
      "metadata": {
        "colab": {
          "base_uri": "https://localhost:8080/"
        },
        "id": "kwGClMak9R6y",
        "outputId": "b3c95004-69f3-4eb0-f324-8da4000adb1a"
      },
      "execution_count": 14,
      "outputs": [
        {
          "output_type": "execute_result",
          "data": {
            "text/plain": [
              "3"
            ]
          },
          "metadata": {},
          "execution_count": 14
        }
      ]
    },
    {
      "cell_type": "markdown",
      "source": [
        "**Objectives** :\n",
        "* List popular languages for Data Science\n",
        "* List commonly used libraries used by Data Scientists\n",
        "* List Data Science Tools"
      ],
      "metadata": {
        "id": "Hho8JEJ8-SG-"
      }
    },
    {
      "cell_type": "markdown",
      "source": [
        "##Author\n",
        "Slim Oueslati"
      ],
      "metadata": {
        "id": "cKJLXSZp_iyL"
      }
    }
  ]
}